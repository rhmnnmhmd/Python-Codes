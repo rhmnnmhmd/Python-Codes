{
 "cells": [
  {
   "cell_type": "markdown",
   "id": "ac85e015",
   "metadata": {},
   "source": [
    "# Import libraries"
   ]
  },
  {
   "cell_type": "code",
   "execution_count": 1,
   "id": "5e0215e3",
   "metadata": {},
   "outputs": [],
   "source": [
    "import numpy as np\n",
    "from numpy.fft import fft, ifft, fftshift, ifftshift\n",
    "\n",
    "import matplotlib.pyplot as plt\n",
    "\n",
    "import scipy as sp\n",
    "import scipy.optimize as opt\n",
    "from scipy.special import wofz\n",
    "from scipy import special\n",
    "from scipy.optimize import curve_fit\n",
    "from scipy.signal import argrelextrema, find_peaks\n",
    "\n",
    "import time"
   ]
  },
  {
   "cell_type": "code",
   "execution_count": 2,
   "id": "65e7ead9",
   "metadata": {},
   "outputs": [],
   "source": [
    "# System object\n",
    "# Is defining the whole experimental setup system\n",
    "class System:\n",
    "    def __init__(self, \n",
    "                 lambda_0=7.95e-7, \n",
    "                 c=3e8, \n",
    "                 gamma_31=1.8850e7, \n",
    "                 gamma_21=9.425e4, \n",
    "                 b_v0=62, \n",
    "                 L=0.017, \n",
    "                 Omega_C=7.917e7, \n",
    "                 N=80000, \n",
    "                 T=2.5e-6, \n",
    "                 t_up=0.125e-6, \n",
    "                 t_down=2e-6, \n",
    "                 detuning=2.0735e8,):\n",
    "        self.lambda_0 = lambda_0\n",
    "        self.c = c\n",
    "        self.k_0 = (2*np.pi)/(self.lambda_0)\n",
    "        self.w_0 = self.k_0*self.c\n",
    "        self.gamma_31 = gamma_31\n",
    "        self.gamma_21 = gamma_21\n",
    "        self.gamma_21_bar = self.gamma_21/self.gamma_31\n",
    "        self.b_v0 = b_v0\n",
    "        self.L = L\n",
    "        self.Omega_C = Omega_C\n",
    "        self.alpha = self.b_v0/self.L\n",
    "        self.A = self.alpha*self.L / (2*np.pi)\n",
    "        self.N = N\n",
    "        self.T = T\n",
    "        self.dt = self.T/self.N\n",
    "        self.t = np.linspace(0, self.T, self.N)  # t-domain array\n",
    "        self.t_up = t_up\n",
    "        self.t_down = t_down\n",
    "        self.detuning = detuning\n",
    "        self.E_0L = (np.heaviside(self.t-self.t_up, 1) - np.heaviside(self.t-self.t_down, 1))*np.exp(1j*self.k_0*self.L)\n",
    "        self.E_0Lfr = fftshift(fft(self.E_0L))\n",
    "    \n",
    "\n",
    "    # method to get wavenumber\n",
    "    def k(self, w):\n",
    "        return (self.w_0/self.c)*np.sqrt(1 + ((self.c*self.b_v0)/(self.w_0*self.L))*(4*(w + 1j*self.gamma_21)*self.gamma_31)/(self.Omega_C**2 - 4*(w + 1j*self.gamma_21)*(w + 1j*self.gamma_31)))\n",
    "\n",
    "\n",
    "    # Real g-function\n",
    "    def g(self, x):\n",
    "        return np.sqrt(np.pi/8)*(1/x)*wofz(1j/(np.sqrt(8)*x))\n",
    "\n",
    "\n",
    "    # quadratic fitting function\n",
    "    def func1(self, Omega_C_Array, a, b, c):\n",
    "        return a*Omega_C_Array**2 + b*Omega_C_Array + c\n",
    "\n",
    "\n",
    "    # quartic fitting function \n",
    "    def func2(self, Omega_C_Array, a, b, c, d, e):\n",
    "        return a*Omega_C_Array**4 + b*Omega_C_Array**3 + c*Omega_C_Array**2 + d*Omega_C_Array + e\n",
    "\n",
    "\n",
    "    # get temporal\n",
    "    def temporal(self, plot=True):\n",
    "        self.f = np.linspace(-self.N/(2*self.T), self.N/(2*self.T), self.N)\n",
    "        self.w = (2.0*np.pi)*self.f  \n",
    "        self.w_new = np.asarray([i + self.detuning for i in self.w])\n",
    "        self.trans = np.exp(1j*self.k(self.w_new)*self.L)  \n",
    "        self.E_t = ifft(ifftshift(self.E_0Lfr*self.trans))\n",
    "        for a in self.t:\n",
    "            if a >= self.t_up:\n",
    "                self.up_index = np.where(self.t==a)[0][0]\n",
    "                break\n",
    "        for b in self.t:\n",
    "            if b >= self.t_down:\n",
    "                self.down_index = np.where(self.t==b)[0][0]\n",
    "                break\n",
    "        # Front part of incident pulse before probe ignition\n",
    "        self.part_1 = np.zeros(self.up_index)\n",
    "        # size of part1\n",
    "        self.part_1_size = len(self.part_1)\n",
    "        # Datapoints That is Left After Front Part has Been Chosen\n",
    "        self.size_left = self.N - self.part_1_size\n",
    "        # Size of Time-Domain Transmitted Field From t= 0 Up Till Probe Extinction\n",
    "        self.size = len(self.E_t[0: self.down_index])\n",
    "        # If-Else Statements to Determine The Final Time-Domain Transmitted Field\n",
    "        if self.size < self.size_left:\n",
    "            self.part_2 = np.flip(np.copy(self.E_t[0: self.down_index]))\n",
    "            self.part_2_size = len(self.part_2)\n",
    "            self.size_left = self.N - self.part_1_size - self.part_2_size\n",
    "            self.size_left = -self.size_left\n",
    "            self.part_3 = np.flip(np.copy(self.E_t[self.size_left: ]))\n",
    "            self.E_final = np.append(self.part_1, self.part_2)\n",
    "            self.E_final = np.append(self.E_final, self.part_3)\n",
    "        elif self.size == self.size_left:\n",
    "            self.part_2 = np.flip(np.copy(self.E_t[0: self.down_index]))\n",
    "            self.E_final = np.append(self.part_1, self.part_2)  \n",
    "        elif self.size > self.size_left:\n",
    "            self.size_left = self.up_index + self.down_index - self.N\n",
    "            self.part_2 = np.flip(np.copy(self.E_t[self.size_left: self.down_index]))\n",
    "            self.E_final = np.append(self.part_1, self.part_2)\n",
    "        else:\n",
    "            print(\"Error!!!\")\n",
    "        # Time-Domain Transmitted intensity\n",
    "        self.I_t = np.abs(self.E_final)**2\n",
    "\n",
    "        if plot == True:\n",
    "            fig, ax = plt.subplots(1, 1)\n",
    "            # plotting output field superimposed on input field at z = L\n",
    "            ax.plot(self.t*1e6, \n",
    "                    np.abs(self.E_0L)**2, \n",
    "                    color = \"blue\",\n",
    "                    linestyle = \"dashed\", \n",
    "                    label = f'Incident: Delta_p={self.detuning/self.gamma_31}gamma_31, Omega_c={self.Omega_C/self.gamma_31}gamma_31')   \n",
    "            ax.plot(self.t*1e6, \n",
    "                    self.I_t, \n",
    "                    \"r\", \n",
    "                    label = \"Transmitted\")\n",
    "            # title of plot\n",
    "            # ax.set_title(\"Transmitted Intensity, $I_{t}(t)$ Superimposed on Incident Intensity, $I_{0}(t)$\", fontsize = 25)\n",
    "            # axis label\n",
    "            # ax.set_xlabel(\"Time, t ($ \\cdot 10^{-6} sec$)\", fontsize = 37)\n",
    "            ax.set_ylabel(\"Intensity, $I(t)$\")\n",
    "            # axis tick\n",
    "            ax.tick_params(axis = \"x\")\n",
    "            ax.tick_params(axis = \"y\")\n",
    "            # ax.set_xticks([0.5, 1.0, 1.5, 2.0, 2.5])\n",
    "            ax.set_xticks([])\n",
    "            ax.set_yticks([0.0, 1.0, 2.0, 3.0, 4.0])\n",
    "            # limit on x-axis\n",
    "            ax.set_xlim(0, )\n",
    "            # limit on y-axis\n",
    "            ax.set_ylim(0, 4)\n",
    "            # enable legend\n",
    "            ax.legend()\n",
    "            # adjusting subplots\n",
    "            plt.tight_layout()\n",
    "            plt.show()\n",
    "        else:\n",
    "            return self.I_t\n",
    "    \n",
    "    \n",
    "    # get spectral\n",
    "    def spectral(self, \n",
    "                 detuning_array=np.arange(-5.655e8, 5.655e8, 2.5e6),\n",
    "                 plot=True):\n",
    "        self.detuning_array = detuning_array\n",
    "        self.I_s = np.array([])\n",
    "        for i in self.detuning_array:\n",
    "            self.temporal_temp = System(detuning=i).temporal(plot=False)\n",
    "            self.I_t_extinct = np.max(self.temporal_temp[self.down_index: self.down_index+200])\n",
    "            self.I_s = np.append(self.I_s, self.I_t_extinct)\n",
    "\n",
    "        if plot == True:\n",
    "            # plotting\n",
    "            # Create Subplot\n",
    "            fig, ax = plt.subplots(1, 1)\n",
    "            # Plot I_s vs Detuning\n",
    "            ax.plot(self.detuning_array/self.gamma_31, \n",
    "                    self.I_s, \n",
    "                    color = \"r\", \n",
    "                    label = f'Omega_c={self.Omega_C/self.gamma_31}gamma_31, b_v0={self.b_v0}')\n",
    "            # Limit of y-axis\n",
    "            ax.set_ylim(0, 4)\n",
    "            # Plot Title\n",
    "            # ax.set_title(\"Forward-Scattered Intensity, $I_{s}$ vs Normalized Detuning, $\\Delta/\\gamma_{13}$\", fontsize= 27)\n",
    "            ax.set_title(\"Forward-Scattered Intensity, $I_{s}$ vs Normalized Detuning, $\\Delta/\\Gamma$\")\n",
    "            # Label x-axis\n",
    "            # ax.set_xlabel(\"$\\Delta/\\gamma_{13}$\", fontsize = 33)\n",
    "            ax.set_xlabel(\"$\\Delta/\\Gamma$\")\n",
    "            # Label y-axis\n",
    "            ax.set_ylabel(\"$I_{s}/I_{0}$\")\n",
    "            # Enable Legend\n",
    "            ax.legend()\n",
    "            # Adjust Subplot\n",
    "            plt.tight_layout()\n",
    "            plt.show()\n",
    "        else:\n",
    "            return self.I_s\n",
    "\n",
    "    # get \n",
    "    # def "
   ]
  },
  {
   "cell_type": "code",
   "execution_count": 3,
   "id": "7b696af6",
   "metadata": {},
   "outputs": [],
   "source": [
    "my_system = System(Omega_C=0)"
   ]
  },
  {
   "cell_type": "code",
   "execution_count": 4,
   "id": "0e79a1b9",
   "metadata": {},
   "outputs": [
    {
     "data": {
      "image/png": "[encoded data removed]",
      "text/plain": [
       "<Figure size 432x288 with 1 Axes>"
      ]
     },
     "metadata": {
      "needs_background": "light"
     },
     "output_type": "display_data"
    }
   ],
   "source": [
    "my_system.temporal()"
   ]
  },
  {
   "cell_type": "code",
   "execution_count": 5,
   "id": "73a9d984",
   "metadata": {},
   "outputs": [
    {
     "data": {
      "image/png": "[encoded data removed]",
      "text/plain": [
       "<Figure size 432x288 with 1 Axes>"
      ]
     },
     "metadata": {
      "needs_background": "light"
     },
     "output_type": "display_data"
    }
   ],
   "source": [
    "my_system.spectral()"
   ]
  },
  {
   "cell_type": "code",
   "execution_count": 4,
   "id": "071b2dfb-8b5d-44d4-b33c-56df3c6fd3ae",
   "metadata": {},
   "outputs": [],
   "source": [
    "# functions\n",
    "def k(w, Omega_C):\n",
    "    return (w_0/c)*np.sqrt(1 + ((c*b_v0)/(w_0*L))*(4*(w + 1j*gamma_12)*gamma_13)/(Omega_C**2 - 4*(w + 1j*gamma_12)*(w + 1j*gamma_13)))"
   ]
  },
  {
   "cell_type": "code",
   "execution_count": 7,
   "id": "03f3064b-256a-4196-8ee9-174d29caf424",
   "metadata": {},
   "outputs": [],
   "source": [
    "# constants\n",
    "lambda0 = 7.95e-7 # resonant wavelength (m)\n",
    "k0 = (2*np.pi)/(lambda0) # resonant wavenumber (1/m)\n",
    "c = 3e8 # vacuum speed of light (m/sec)\n",
    "w_0 = k0*c # resonant angular frequency (rad/sec)\n",
    "\n",
    "# dephasing rate between |1> (|g>) and |3> (|e>) (rad/sec)\n",
    "gamma_31 = 1.8850e7\n",
    "Omega_C = 4.2*gamma_31\n",
    "\n",
    "# dephasing rate between |1> (|g>) and |2> (|c>) (rad/sec)\n",
    "gamma12 = 0.005*gamma_31\n",
    "gamma21 = gamma12\n",
    "gamma21bar = gamma21/gamma_31\n",
    "\n",
    "bv0 = 62 # OD\n",
    "sigma = (3*(lambda0**2))/(2*np.pi) # scattering/absorption cross-section (m^2)\n",
    "L = 0.017 # material thickness (m)\n",
    "alpha = bv0/L\n",
    "A = alpha*L / (2*np.pi)"
   ]
  },
  {
   "cell_type": "code",
   "execution_count": 8,
   "id": "4d01535e-7f24-4fd5-a747-f6c037c346de",
   "metadata": {},
   "outputs": [],
   "source": [
    "# sampling parameters\n",
    "N = 80000 # sampling rate/points\n",
    "T = 2.5e-6 # time-domain full interval\n",
    "dt = T/N # sampling interval"
   ]
  },
  {
   "cell_type": "code",
   "execution_count": 9,
   "id": "4560a5b8-89c4-489f-a7ae-058c2744926d",
   "metadata": {},
   "outputs": [],
   "source": [
    "# input array\n",
    "t = np.linspace(0, T, N) # t-domain array\n",
    "tUp = 0.125e-6 # ignition time\n",
    "tDown = 2e-6 # extinction time\n",
    "\n",
    "# pulse\n",
    "E0 = np.fft.fftshift(np.fft.fft((np.heaviside(t-tUp, 1) - np.heaviside(t-tDown, 1))*np.exp(1j*k0*L)))"
   ]
  },
  {
   "cell_type": "code",
   "execution_count": 12,
   "id": "440ee4c2-c580-44dd-b1a7-83a0c7c55a0f",
   "metadata": {},
   "outputs": [],
   "source": [
    "# detuning array\n",
    "N1 = 100\n",
    "detuningArray = np.linspace(0, 20, N1)*gamma_31\n",
    "\n",
    "# empty b0 array\n",
    "N2 = 100\n",
    "OmegaCArray = np.linspace(0, 20, N2)*gamma_31\n",
    "\n",
    "# empty I_s array\n",
    "IsArray = np.zeros((N1, N2))\n",
    "\n",
    "# angular frequency\n",
    "w = (2.0*np.pi)*np.linspace(-N/(2*T), N/(2*T), N)"
   ]
  },
  {
   "cell_type": "code",
   "execution_count": 11,
   "id": "5775279f-76e1-4c50-9d61-aef7666f88b4",
   "metadata": {},
   "outputs": [],
   "source": [
    "# detuned angular frequency\n",
    "wNew = np.sum(np.array(np.meshgrid(w, detuningArray)), axis=0)"
   ]
  },
  {
   "cell_type": "code",
   "execution_count": null,
   "id": "7a1e2230-9b07-47e6-8a0e-10c0c2b61bd8",
   "metadata": {},
   "outputs": [],
   "source": [
    "# transfer function\n",
    "trans = np.zeros((N2, N1, N), dtype='complex_')\n",
    "\n",
    "for m in range(N2): \n",
    "    trans[m] = np.exp(1j*k(wNew, OmegaCArray[m])*L)\n",
    "    \n",
    "trans = trans*E0"
   ]
  },
  {
   "cell_type": "code",
   "execution_count": null,
   "id": "e1a09df3-0048-45ff-9d4f-db05939d344b",
   "metadata": {},
   "outputs": [],
   "source": [
    "for m in range(0, N2):\n",
    "    print(m, end='\\r')\n",
    "    for n in range(0, N1):        \n",
    "        # time-domain transmitted field\n",
    "        E = np.fft.ifft(np.fft.ifftshift(trans[m,n]))\n",
    "\n",
    "        # finding element index where probe ignition and extinction occurs\n",
    "        upIndex = np.min(np.where(t >= tUp))\n",
    "        downIndex = np.min(np.where(t >= tDown))\n",
    "        \n",
    "        # front part of incident pulse before probe ignition\n",
    "        part1 = np.zeros(upIndex)\n",
    "            \n",
    "        # size of part1\n",
    "        part1Size = len(part1)\n",
    "        \n",
    "        # datapoints that is left after front part has been chosen\n",
    "        sizeLeft = N - part1Size\n",
    "        \n",
    "        # size of time-domain transmitted field from t=0 up till probe extinction\n",
    "        size = len(E[0: downIndex])\n",
    "        \n",
    "        # if-else statements to determine the final time-domain transmitted field\n",
    "        if size < sizeLeft:\n",
    "            part2 = np.flip(np.copy(E[0:downIndex]))\n",
    "            part2Size = len(part2)\n",
    "            sizeLeft = N - part1Size - part2Size\n",
    "            sizeLeft = -sizeLeft\n",
    "            part3 = np.flip(np.copy(E[sizeLeft:]))\n",
    "            Efinal = np.append(part1, part2)\n",
    "            Efinal = np.append(Efinal, part3)\n",
    "        elif size == sizeLeft:\n",
    "            part2 = np.flip(np.copy(E[0:downIndex]))\n",
    "            Efinal = np.append(part1, part2)  \n",
    "        elif size > sizeLeft:\n",
    "            sizeLeft = upIndex + downIndex - N\n",
    "            part2 = np.flip(np.copy(E[sizeLeft:downIndex]))\n",
    "            Efinal = np.append(part1, part2)\n",
    "        \n",
    "        # time-domain transmitted intensity\n",
    "        It = np.abs(Efinal)**2\n",
    "            \n",
    "        # finding max time-domain transmitted intensity\n",
    "        Is = np.max(It[downIndex: downIndex+200])\n",
    "            \n",
    "        # appending Isarray\n",
    "        IsArray[n, m] = Is"
   ]
  },
  {
   "cell_type": "code",
   "execution_count": 15,
   "id": "71ea76b9-8872-4cfc-97e9-df6831b51015",
   "metadata": {},
   "outputs": [
    {
     "data": {
      "text/plain": [
       "<matplotlib.collections.QuadMesh at 0x224c4c1d2d0>"
      ]
     },
     "execution_count": 15,
     "metadata": {},
     "output_type": "execute_result"
    },
    {
     "data": {
      "image/png": "[encoded data removed]",
      "text/plain": [
       "<Figure size 432x432 with 1 Axes>"
      ]
     },
     "metadata": {
      "needs_background": "light"
     },
     "output_type": "display_data"
    }
   ],
   "source": [
    "x = np.linspace(0, 20, 100)\n",
    "y = np.linspace(0, 20, 100)\n",
    "\n",
    "fig, axs = plt.subplots(1, 1, figsize=(6, 6))\n",
    "axs.pcolormesh(x, y, IsArray)"
   ]
  }
 ],
 "metadata": {
  "kernelspec": {
   "display_name": "Python 3.9.12 ('base')",
   "language": "python",
   "name": "python3"
  },
  "language_info": {
   "codemirror_mode": {
    "name": "ipython",
    "version": 3
   },
   "file_extension": ".py",
   "mimetype": "text/x-python",
   "name": "python",
   "nbconvert_exporter": "python",
   "pygments_lexer": "ipython3",
   "version": "3.9.12"
  },
  "vscode": {
   "interpreter": {
    "hash": "ad2bdc8ecc057115af97d19610ffacc2b4e99fae6737bb82f5d7fb13d2f2c186"
   }
  }
 },
 "nbformat": 4,
 "nbformat_minor": 5
}
